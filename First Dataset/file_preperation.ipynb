{
 "cells": [
  {
   "cell_type": "code",
   "execution_count": 2,
   "metadata": {},
   "outputs": [],
   "source": [
    "import os,shutil\n",
    "path='C:/Users/mehmu/Desktop/PyProjects/Projects/github repo/BreastCancer/First Dataset/processed'\n",
    "os.mkdir(path)\n",
    "os.mkdir(path+'/0')\n",
    "os.mkdir(path+'/1')\n",
    "targetpath=path"
   ]
  },
  {
   "cell_type": "code",
   "execution_count": 7,
   "metadata": {},
   "outputs": [
    {
     "data": {
      "text/plain": [
       "'C:/Users/mehmu/Desktop/PyProjects/Projects/github repo/BreastCancer/IDC_regular_ps50_idx5'"
      ]
     },
     "execution_count": 7,
     "metadata": {},
     "output_type": "execute_result"
    }
   ],
   "source": [
    "shutil.move('C:/Users/mehmu/Desktop/PyProjects/Projects/github repo/BreastCancer/First Dataset/data/IDC_regular_ps50_idx5','C:/Users/mehmu/Desktop/PyProjects/Projects/github repo/BreastCancer/First Dataset/')"
   ]
  },
  {
   "cell_type": "code",
   "execution_count": 11,
   "metadata": {},
   "outputs": [],
   "source": [
    "path='C:/Users/mehmu/Desktop/PyProjects/Projects/github repo/BreastCancer/First Dataset/data'\n",
    "\n",
    "for j in ['0','1']:\n",
    "    for i in os.listdir(path):\n",
    "        for x in os.listdir(path+f'/{i}/{j}/'):\n",
    "            shutil.copy(path+f'/{i}/{j}/{x}',f'{targetpath}/{j}')"
   ]
  },
  {
   "cell_type": "code",
   "execution_count": 13,
   "metadata": {},
   "outputs": [
    {
     "name": "stderr",
     "output_type": "stream",
     "text": [
      "Copying files: 277524 files [12:45, 362.53 files/s]\n"
     ]
    }
   ],
   "source": [
    "import splitfolders as sf\n",
    "\n",
    "sf.ratio('C:/Users/mehmu/Desktop/PyProjects/Projects/github repo/BreastCancer/First Dataset/processed/','output',seed=1337,ratio=(0.6,0.2,0.2))\n",
    "\n"
   ]
  },
  {
   "cell_type": "code",
   "execution_count": 5,
   "metadata": {},
   "outputs": [],
   "source": [
    "import os,shutil\n",
    "\n",
    "for i in ['data','processed']:\n",
    "    shutil.rmtree(f'C:/Users/mehmu/Desktop/PyProjects/Projects/github repo/BreastCancer/First Dataset/{i}/')"
   ]
  },
  {
   "cell_type": "code",
   "execution_count": null,
   "metadata": {},
   "outputs": [],
   "source": []
  }
 ],
 "metadata": {
  "kernelspec": {
   "display_name": "Python 3.9.0 64-bit",
   "language": "python",
   "name": "python3"
  },
  "language_info": {
   "codemirror_mode": {
    "name": "ipython",
    "version": 3
   },
   "file_extension": ".py",
   "mimetype": "text/x-python",
   "name": "python",
   "nbconvert_exporter": "python",
   "pygments_lexer": "ipython3",
   "version": "3.9.0"
  },
  "orig_nbformat": 4,
  "vscode": {
   "interpreter": {
    "hash": "a7cd1a3a91448925d52e40248ab3fc9222a58eec32dc182ec3aef8fbd589352c"
   }
  }
 },
 "nbformat": 4,
 "nbformat_minor": 2
}
